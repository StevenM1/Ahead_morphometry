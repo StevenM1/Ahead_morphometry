{
 "cells": [
  {
   "cell_type": "code",
   "execution_count": 1,
   "metadata": {},
   "outputs": [],
   "source": [
    "import numpy as np\n",
    "import matplotlib.pyplot as plt\n",
    "import pandas as pd\n",
    "\n",
    "%matplotlib inline"
   ]
  },
  {
   "cell_type": "code",
   "execution_count": 2,
   "metadata": {},
   "outputs": [],
   "source": [
    "winning_model_df = pd.read_pickle('../code/app/subcortex-app/data/winning_models/qmri_age_models.pkl')"
   ]
  },
  {
   "cell_type": "code",
   "execution_count": 3,
   "metadata": {},
   "outputs": [
    {
     "data": {
      "text/html": [
       "<div>\n",
       "<style scoped>\n",
       "    .dataframe tbody tr th:only-of-type {\n",
       "        vertical-align: middle;\n",
       "    }\n",
       "\n",
       "    .dataframe tbody tr th {\n",
       "        vertical-align: top;\n",
       "    }\n",
       "\n",
       "    .dataframe thead th {\n",
       "        text-align: right;\n",
       "    }\n",
       "</style>\n",
       "<table border=\"1\" class=\"dataframe\">\n",
       "  <thead>\n",
       "    <tr style=\"text-align: right;\">\n",
       "      <th></th>\n",
       "      <th>ROI</th>\n",
       "      <th>qMRI</th>\n",
       "      <th>Statistic</th>\n",
       "      <th>ivs</th>\n",
       "      <th>model</th>\n",
       "      <th>result</th>\n",
       "      <th>BIC</th>\n",
       "      <th>rsquared</th>\n",
       "      <th>is_winner_BIC</th>\n",
       "      <th>ivs_2</th>\n",
       "      <th>new_winning_model_3</th>\n",
       "    </tr>\n",
       "  </thead>\n",
       "  <tbody>\n",
       "    <tr>\n",
       "      <th>9</th>\n",
       "      <td>3V</td>\n",
       "      <td>iron</td>\n",
       "      <td>median</td>\n",
       "      <td>Age2 + sex</td>\n",
       "      <td>&lt;statsmodels.regression.linear_model.OLS objec...</td>\n",
       "      <td>&lt;statsmodels.regression.linear_model.Regressio...</td>\n",
       "      <td>323.605685</td>\n",
       "      <td>2.049183e-01</td>\n",
       "      <td>True</td>\n",
       "      <td>Age2 + sex</td>\n",
       "      <td>False</td>\n",
       "    </tr>\n",
       "    <tr>\n",
       "      <th>30</th>\n",
       "      <td>3V</td>\n",
       "      <td>iron</td>\n",
       "      <td>iqr</td>\n",
       "      <td>Age2</td>\n",
       "      <td>&lt;statsmodels.regression.linear_model.OLS objec...</td>\n",
       "      <td>&lt;statsmodels.regression.linear_model.Regressio...</td>\n",
       "      <td>522.990511</td>\n",
       "      <td>2.993918e-01</td>\n",
       "      <td>True</td>\n",
       "      <td>Age2</td>\n",
       "      <td>False</td>\n",
       "    </tr>\n",
       "    <tr>\n",
       "      <th>48</th>\n",
       "      <td>3V</td>\n",
       "      <td>myelin</td>\n",
       "      <td>median</td>\n",
       "      <td>1</td>\n",
       "      <td>&lt;statsmodels.regression.linear_model.OLS objec...</td>\n",
       "      <td>&lt;statsmodels.regression.linear_model.Regressio...</td>\n",
       "      <td>330.545791</td>\n",
       "      <td>2.220446e-16</td>\n",
       "      <td>True</td>\n",
       "      <td>1</td>\n",
       "      <td>False</td>\n",
       "    </tr>\n",
       "    <tr>\n",
       "      <th>80</th>\n",
       "      <td>3V</td>\n",
       "      <td>myelin</td>\n",
       "      <td>iqr</td>\n",
       "      <td>Age2 + Age:sex</td>\n",
       "      <td>&lt;statsmodels.regression.linear_model.OLS objec...</td>\n",
       "      <td>&lt;statsmodels.regression.linear_model.Regressio...</td>\n",
       "      <td>194.409033</td>\n",
       "      <td>1.389058e-01</td>\n",
       "      <td>True</td>\n",
       "      <td>Age2 + Age:sex</td>\n",
       "      <td>False</td>\n",
       "    </tr>\n",
       "    <tr>\n",
       "      <th>96</th>\n",
       "      <td>3V</td>\n",
       "      <td>r1hz</td>\n",
       "      <td>median</td>\n",
       "      <td>1</td>\n",
       "      <td>&lt;statsmodels.regression.linear_model.OLS objec...</td>\n",
       "      <td>&lt;statsmodels.regression.linear_model.Regressio...</td>\n",
       "      <td>-346.215862</td>\n",
       "      <td>-2.220446e-16</td>\n",
       "      <td>True</td>\n",
       "      <td>1</td>\n",
       "      <td>False</td>\n",
       "    </tr>\n",
       "  </tbody>\n",
       "</table>\n",
       "</div>"
      ],
      "text/plain": [
       "   ROI    qMRI Statistic             ivs  \\\n",
       "9   3V    iron    median      Age2 + sex   \n",
       "30  3V    iron       iqr            Age2   \n",
       "48  3V  myelin    median               1   \n",
       "80  3V  myelin       iqr  Age2 + Age:sex   \n",
       "96  3V    r1hz    median               1   \n",
       "\n",
       "                                                model  \\\n",
       "9   <statsmodels.regression.linear_model.OLS objec...   \n",
       "30  <statsmodels.regression.linear_model.OLS objec...   \n",
       "48  <statsmodels.regression.linear_model.OLS objec...   \n",
       "80  <statsmodels.regression.linear_model.OLS objec...   \n",
       "96  <statsmodels.regression.linear_model.OLS objec...   \n",
       "\n",
       "                                               result         BIC  \\\n",
       "9   <statsmodels.regression.linear_model.Regressio...  323.605685   \n",
       "30  <statsmodels.regression.linear_model.Regressio...  522.990511   \n",
       "48  <statsmodels.regression.linear_model.Regressio...  330.545791   \n",
       "80  <statsmodels.regression.linear_model.Regressio...  194.409033   \n",
       "96  <statsmodels.regression.linear_model.Regressio... -346.215862   \n",
       "\n",
       "        rsquared  is_winner_BIC           ivs_2  new_winning_model_3  \n",
       "9   2.049183e-01           True      Age2 + sex                False  \n",
       "30  2.993918e-01           True            Age2                False  \n",
       "48  2.220446e-16           True               1                False  \n",
       "80  1.389058e-01           True  Age2 + Age:sex                False  \n",
       "96 -2.220446e-16           True               1                False  "
      ]
     },
     "execution_count": 3,
     "metadata": {},
     "output_type": "execute_result"
    }
   ],
   "source": [
    "winning_model_df.head()"
   ]
  },
  {
   "cell_type": "code",
   "execution_count": 4,
   "metadata": {},
   "outputs": [],
   "source": [
    "age_range = np.arange(19, 76)\n",
    "predict_df_0 = pd.DataFrame({'Age': age_range, 'Age2': age_range**2, 'sex': 0})"
   ]
  },
  {
   "cell_type": "code",
   "execution_count": 10,
   "metadata": {},
   "outputs": [
    {
     "name": "stdout",
     "output_type": "stream",
     "text": [
      "Intercept    15.811110\n",
      "Age           0.055264\n",
      "Age2         -0.000800\n",
      "dtype: float64\n",
      "Intercept    1.557304\n",
      "Age          0.020952\n",
      "dtype: float64\n"
     ]
    },
    {
     "name": "stderr",
     "output_type": "stream",
     "text": [
      "/home/stevenm/.conda/envs/python3/lib/python3.7/site-packages/ipykernel_launcher.py:54: UserWarning: This figure includes Axes that are not compatible with tight_layout, so results might be incorrect.\n"
     ]
    },
    {
     "data": {
      "image/png": "[encoded data removed]",
      "text/plain": [
       "<Figure size 720x216 with 8 Axes>"
      ]
     },
     "metadata": {
      "needs_background": "light"
     },
     "output_type": "display_data"
    }
   ],
   "source": [
    "f, ax = plt.subplots(2,4, figsize=(10,3), sharex=True, gridspec_kw={'hspace':.15, 'wspace':.1, 'width_ratios':[.3,.025,.3,.3]})\n",
    "\n",
    "aucs = []\n",
    "for i in range(2):\n",
    "    if i == 0:\n",
    "        roi = 'ic'\n",
    "        statistic = 'median'\n",
    "        measure = 'myelin'\n",
    "    elif i == 1:\n",
    "        roi = 'AMG'\n",
    "        statistic = 'median'\n",
    "        measure = 'iron'\n",
    "    \n",
    "    result = winning_model_df.loc[(winning_model_df.ROI==roi) & (winning_model_df.qMRI==measure) & (winning_model_df.Statistic==statistic), 'result'].values[0]\n",
    "    params = result.params\n",
    "    print(params)\n",
    "    y = result.predict(exog=predict_df_0)\n",
    "\n",
    "    ax[i,0].plot(age_range,y)\n",
    "    ax[i,2].plot(age_range[1:], np.diff(y))\n",
    "    ax[i,2].axhline(color='k', linewidth=.5)\n",
    "    ax[i,2].set_ylim(-0.08, 0.08)\n",
    "\n",
    "    ax[i,3].plot(age_range[1:], np.abs(np.diff(y)))\n",
    "    ax[i,3].axhline(color='k', linewidth=.5)\n",
    "    ax[i,3].set_ylim(ax[i,2].get_ylim())\n",
    "    ax[i,3].set_yticklabels([])\n",
    "    \n",
    "    ax[i,3].fill_between(age_range[1:], np.abs(np.diff(y)), color='lightgrey')\n",
    "    aucs.append(np.sum(np.abs(np.diff(y))))\n",
    "\n",
    "ax[0,0].text(20, 15.5, s='$f(x) = 15.811+$\\n      $0.0055x-0.0008x^2$')\n",
    "ax[0,2].text(25, 0.05, s='$f\\'(x) = 0.0055-0.0016x$')\n",
    "ax[0,3].text(20, -0.06, s='$\\int_{{19}}^{{75}} |f\\'(x)|dx = {:.3f}$'.format(aucs[0]))\n",
    "ax[0,0].set_ylabel('Myelin (ppm)')\n",
    "\n",
    "ax[1,0].text(20, 2.95, s='$f(x) = 1.557+0.021x$')\n",
    "ax[1,2].text(20, -0.06, s='$f\\'(x) = 0.021$')\n",
    "ax[1,3].text(20, -0.06, s='$\\int_{{19}}^{{75}} |f\\'(x)|dx = {:.3f}$'.format(aucs[1]))\n",
    "ax[1,0].set_ylabel('Iron (ppm)')\n",
    "\n",
    "\n",
    "ax[0,0].set_title('Best fitting model')\n",
    "ax[0,2].set_title('Derivative')\n",
    "ax[0,3].set_title('Absolute derivative')\n",
    "\n",
    "ax[0,1].axis('off')\n",
    "ax[1,1].axis('off')\n",
    "\n",
    "ax[1,2].set_xlabel('Age')\n",
    "\n",
    "np.sum(np.abs(np.diff(y)))\n",
    "\n",
    "f.tight_layout()\n",
    "f.align_ylabels(ax[:, 0])\n",
    "f.savefig('./derivative_illustration.pdf', bbox_inches='tight')\n"
   ]
  },
  {
   "cell_type": "markdown",
   "metadata": {},
   "source": [
    "Procedure of estimating total amount of change across the adult lifespan. The left column shows two example models: One inverted U-shape (median myelin change in the internal capsule), and one linear increase (median iron change in the amygdala). Formally, change across ages is given by the first derivative (middle column). To collapse over the direction of change (increase or decrease), we took the absolute of the derivative (right column). The sum of this absolute derivative (illustrated by the gray area under the curve) represents the total amount of change in a region. As a final step (not illustrated), the sum of the absolute derivative is divided by the model prediction at 19 years old, which represents the total amount of change relative to the baseline value."
   ]
  },
  {
   "cell_type": "code",
   "execution_count": null,
   "metadata": {},
   "outputs": [],
   "source": []
  }
 ],
 "metadata": {
  "kernelspec": {
   "display_name": "Python 3",
   "language": "python",
   "name": "python3"
  },
  "language_info": {
   "codemirror_mode": {
    "name": "ipython",
    "version": 3
   },
   "file_extension": ".py",
   "mimetype": "text/x-python",
   "name": "python",
   "nbconvert_exporter": "python",
   "pygments_lexer": "ipython3",
   "version": "3.7.7"
  }
 },
 "nbformat": 4,
 "nbformat_minor": 4
}
